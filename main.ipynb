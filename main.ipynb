{
 "cells": [
  {
   "cell_type": "markdown",
   "metadata": {
    "id": "B0A_iBSyuys7"
   },
   "source": [
    "**Connect Google Drive Files**\n",
    "\n",
    "---\n",
    "\n"
   ]
  },
  {
   "cell_type": "code",
   "execution_count": null,
   "metadata": {
    "id": "qVYMfy15TRYR"
   },
   "outputs": [],
   "source": [
    "from google.colab import drive\n",
    "drive.mount('/content/drive')"
   ]
  },
  {
   "cell_type": "markdown",
   "metadata": {
    "id": "wd821uZM8K_J"
   },
   "source": [
    "# Install Requirements"
   ]
  },
  {
   "cell_type": "markdown",
   "metadata": {},
   "source": [
    "Install spesific requirements(mmcv,LRP-Error Libraries,WBF Libraries)"
   ]
  },
  {
   "cell_type": "code",
   "execution_count": null,
   "metadata": {
    "id": "eX0sPAIllP7r"
   },
   "outputs": [],
   "source": [
    "!pip install mmcv"
   ]
  },
  {
   "cell_type": "code",
   "execution_count": null,
   "metadata": {
    "id": "xS7CJ-sOli9N"
   },
   "outputs": [],
   "source": [
    "!pip install mmdet==2.12.0"
   ]
  },
  {
   "cell_type": "code",
   "execution_count": null,
   "metadata": {
    "id": "Ln2cNy9Smown"
   },
   "outputs": [],
   "source": [
    "!pip install mmcv-full==1.3.4"
   ]
  },
  {
   "cell_type": "code",
   "execution_count": null,
   "metadata": {
    "id": "qyP-eBSGwweu"
   },
   "outputs": [],
   "source": [
    "!pip install ensemble-boxes"
   ]
  },
  {
   "cell_type": "code",
   "execution_count": null,
   "metadata": {
    "id": "ZzIHEi14w2Qm"
   },
   "outputs": [],
   "source": [
    "!pip install git+https://github.com/kemaloksuz/LRP-Error.git#subdirectory=pycocotools\n",
    "!pip install git+https://github.com/kemaloksuz/LRP-Error.git#subdirectory=panopticapi\n",
    "!pip install git+https://github.com/kemaloksuz/LRP-Error.git#subdirectory=lvis-api"
   ]
  },
  {
   "cell_type": "markdown",
   "metadata": {
    "id": "eji13moXi7Ue"
   },
   "source": [
    "**Class name will be change in these directiroies**\n",
    "\n",
    "---\n",
    "\n"
   ]
  },
  {
   "cell_type": "code",
   "execution_count": null,
   "metadata": {
    "id": "y-Ksl9cjWZaW"
   },
   "outputs": [],
   "source": [
    "/usr/local/lib/python3.7/dist-packages/mmdet/datasets/coco.py\n",
    "/usr/local/lib/python3.7/dist-packages/mmdet/core/evaluation/class_names.py"
   ]
  },
  {
   "cell_type": "markdown",
   "metadata": {
    "id": "LOwj9_-4u51a"
   },
   "source": [
    "**Import Libraries**\n",
    "\n",
    "---\n",
    "\n"
   ]
  },
  {
   "cell_type": "markdown",
   "metadata": {
    "id": "uYc8aMbX7ibw"
   },
   "source": [
    "# **Run Preprocessing**"
   ]
  },
  {
   "cell_type": "markdown",
   "metadata": {},
   "source": [
    "Apply preprocess operations on new images for test with our model"
   ]
  },
  {
   "cell_type": "code",
   "execution_count": null,
   "metadata": {
    "id": "BWTIXDQ18G7S"
   },
   "outputs": [],
   "source": [
    "%cd /content/drive/MyDrive/Makale_2"
   ]
  },
  {
   "cell_type": "code",
   "execution_count": null,
   "metadata": {
    "id": "DThMjvA-8BgD"
   },
   "outputs": [],
   "source": [
    "from utils.voc2json import voc2json\n",
    "from utils.preprocess import custom_Dataset"
   ]
  },
  {
   "cell_type": "code",
   "execution_count": null,
   "metadata": {
    "id": "pfILEKvHsMoK"
   },
   "outputs": [],
   "source": [
    "pre_process=custom_Dataset(source_dir=\"./source/\", target_dir=\"./test_images/\", resize_dim=1000)"
   ]
  },
  {
   "cell_type": "code",
   "execution_count": null,
   "metadata": {
    "id": "_Iv_KR0csMlz"
   },
   "outputs": [],
   "source": [
    "pre_process.runPreProcess()"
   ]
  },
  {
   "cell_type": "markdown",
   "metadata": {
    "id": "sWzk-GyD7mbC"
   },
   "source": [
    "# **Labeling**"
   ]
  },
  {
   "cell_type": "markdown",
   "metadata": {},
   "source": [
    "Use this web-site for coco format labelling "
   ]
  },
  {
   "cell_type": "code",
   "execution_count": null,
   "metadata": {
    "id": "B9b-4K-hsMhb"
   },
   "outputs": [],
   "source": [
    "https://imglab.in/"
   ]
  },
  {
   "cell_type": "markdown",
   "metadata": {
    "id": "xHUVZ1hW7wKC"
   },
   "source": [
    "# Convert XML Labels to Json Format for MMdetection Usage"
   ]
  },
  {
   "cell_type": "markdown",
   "metadata": {},
   "source": [
    "Run these codes if you have xml label format."
   ]
  },
  {
   "cell_type": "code",
   "execution_count": null,
   "metadata": {
    "id": "GX7BnLTNz53x"
   },
   "outputs": [],
   "source": [
    "xml2json=voc2json(\"/content/drive/MyDrive/Makale_2/xml\",'ground_truth')"
   ]
  },
  {
   "cell_type": "code",
   "execution_count": null,
   "metadata": {
    "id": "RBF2_4_Hz7o6"
   },
   "outputs": [],
   "source": [
    "xml2json.run()"
   ]
  },
  {
   "cell_type": "markdown",
   "metadata": {
    "id": "9hyto-bz7yfc"
   },
   "source": [
    "# Read Models Json For Usage All Models These Are Used In Ensemble Method"
   ]
  },
  {
   "cell_type": "markdown",
   "metadata": {},
   "source": [
    "Read models json file for get models configs and weights to evaulate on dataset"
   ]
  },
  {
   "cell_type": "code",
   "execution_count": null,
   "metadata": {
    "id": "2dTZRD1pV2Zh"
   },
   "outputs": [],
   "source": [
    "%cd /content/drive/MyDrive/Makale_2"
   ]
  },
  {
   "cell_type": "code",
   "execution_count": null,
   "metadata": {
    "id": "Rqbk2I0lVjWi"
   },
   "outputs": [],
   "source": [
    "import json\n",
    "\n",
    "with open('./models.json') as data_file:    \n",
    "    _models = json.load(data_file)"
   ]
  },
  {
   "cell_type": "code",
   "execution_count": null,
   "metadata": {
    "id": "m4XtiYFTGzz0"
   },
   "outputs": [],
   "source": [
    "for _model in _models['model']:\n",
    "    a='\"'+\"jsonfile_prefix=\"+\"./json_output/\"+_model['name']+'\"'\n",
    "    !python ./tools/test.py {_model['config_path']} {_model['weight_path']} --format-only --options {a}"
   ]
  },
  {
   "cell_type": "markdown",
   "metadata": {
    "id": "unwP5jei71Ea"
   },
   "source": [
    "# Convert JSON outputs that output of evaluation, to CSV for WBF usage."
   ]
  },
  {
   "cell_type": "markdown",
   "metadata": {},
   "source": [
    "Use _mmdetection2wbf for convert json to csv files to WBF usage"
   ]
  },
  {
   "cell_type": "code",
   "execution_count": null,
   "metadata": {
    "colab": {
     "base_uri": "https://localhost:8080/"
    },
    "executionInfo": {
     "elapsed": 686,
     "status": "ok",
     "timestamp": 1639341689812,
     "user": {
      "displayName": "Ozan PEKER",
      "photoUrl": "https://lh3.googleusercontent.com/a/default-user=s64",
      "userId": "16410302484794664058"
     },
     "user_tz": -180
    },
    "id": "K_bGkydpsrNz",
    "outputId": "a7d63111-bf4f-4892-8308-5c5dcb5aff3c"
   },
   "outputs": [],
   "source": [
    "%cd /content/drive/MyDrive/Makale_2"
   ]
  },
  {
   "cell_type": "code",
   "execution_count": null,
   "metadata": {
    "executionInfo": {
     "elapsed": 4,
     "status": "ok",
     "timestamp": 1639341690292,
     "user": {
      "displayName": "Ozan PEKER",
      "photoUrl": "https://lh3.googleusercontent.com/a/default-user=s64",
      "userId": "16410302484794664058"
     },
     "user_tz": -180
    },
    "id": "NrRGCt3IIdbX"
   },
   "outputs": [],
   "source": [
    "from utils._mmdetection2wbf import *"
   ]
  },
  {
   "cell_type": "code",
   "execution_count": null,
   "metadata": {
    "executionInfo": {
     "elapsed": 4,
     "status": "ok",
     "timestamp": 1639341690292,
     "user": {
      "displayName": "Ozan PEKER",
      "photoUrl": "https://lh3.googleusercontent.com/a/default-user=s64",
      "userId": "16410302484794664058"
     },
     "user_tz": -180
    },
    "id": "TeS4iueTbbes"
   },
   "outputs": [],
   "source": [
    "mmdet2wbf=mmdetection2wbf(gt_path=\"./ground_truth/ground_truth.json\", json_path=\"./json_output\",csv_path=\"./csv_output\", init=False)"
   ]
  },
  {
   "cell_type": "code",
   "execution_count": null,
   "metadata": {
    "colab": {
     "base_uri": "https://localhost:8080/",
     "height": 484
    },
    "executionInfo": {
     "elapsed": 10801,
     "status": "error",
     "timestamp": 1639341701090,
     "user": {
      "displayName": "Ozan PEKER",
      "photoUrl": "https://lh3.googleusercontent.com/a/default-user=s64",
      "userId": "16410302484794664058"
     },
     "user_tz": -180
    },
    "id": "MnjpkEFubVy0",
    "outputId": "2dbbd3c5-02fa-4a80-88fd-b450cadb7f64"
   },
   "outputs": [],
   "source": [
    "mmdet2wbf.main()"
   ]
  },
  {
   "cell_type": "code",
   "execution_count": null,
   "metadata": {
    "executionInfo": {
     "elapsed": 629,
     "status": "ok",
     "timestamp": 1639341713917,
     "user": {
      "displayName": "Ozan PEKER",
      "photoUrl": "https://lh3.googleusercontent.com/a/default-user=s64",
      "userId": "16410302484794664058"
     },
     "user_tz": -180
    },
    "id": "0mMJJe0-JWIB"
   },
   "outputs": [],
   "source": [
    "from utils.wbf import wbf"
   ]
  },
  {
   "cell_type": "markdown",
   "metadata": {},
   "source": [
    "Read ensemble_models json file for get ensemble configuration.(sub network and their weights for usage fusion operation)"
   ]
  },
  {
   "cell_type": "code",
   "execution_count": null,
   "metadata": {
    "executionInfo": {
     "elapsed": 1,
     "status": "ok",
     "timestamp": 1639341714379,
     "user": {
      "displayName": "Ozan PEKER",
      "photoUrl": "https://lh3.googleusercontent.com/a/default-user=s64",
      "userId": "16410302484794664058"
     },
     "user_tz": -180
    },
    "id": "7vgdOrZWJWF7"
   },
   "outputs": [],
   "source": [
    "wbf=wbf(gt_path=\"./ground_truth/ground_truth.json\")"
   ]
  },
  {
   "cell_type": "code",
   "execution_count": null,
   "metadata": {
    "executionInfo": {
     "elapsed": 1,
     "status": "ok",
     "timestamp": 1639341714379,
     "user": {
      "displayName": "Ozan PEKER",
      "photoUrl": "https://lh3.googleusercontent.com/a/default-user=s64",
      "userId": "16410302484794664058"
     },
     "user_tz": -180
    },
    "id": "9QVgmU8aNVq2"
   },
   "outputs": [],
   "source": [
    "import json\n",
    "\n",
    "with open('./ensemble_models.json') as data_file:    \n",
    "    _ensemble_models = json.load(data_file)"
   ]
  },
  {
   "cell_type": "code",
   "execution_count": null,
   "metadata": {
    "colab": {
     "base_uri": "https://localhost:8080/"
    },
    "id": "QQ8XntxJNZ3G",
    "outputId": "30826a7e-053b-4e7e-9229-14111c3ff72a",
    "scrolled": false
   },
   "outputs": [],
   "source": [
    "for _model in _ensemble_models['ensemble_models']:\n",
    "    wbf.predict(_model['submodels'],_model['weights'],_model['name'])"
   ]
  }
 ],
 "metadata": {
  "accelerator": "GPU",
  "colab": {
   "collapsed_sections": [
    "uYc8aMbX7ibw",
    "sWzk-GyD7mbC",
    "xHUVZ1hW7wKC"
   ],
   "name": "article_2.ipynb",
   "provenance": []
  },
  "kernelspec": {
   "display_name": "Python 3",
   "language": "python",
   "name": "python3"
  },
  "language_info": {
   "codemirror_mode": {
    "name": "ipython",
    "version": 3
   },
   "file_extension": ".py",
   "mimetype": "text/x-python",
   "name": "python",
   "nbconvert_exporter": "python",
   "pygments_lexer": "ipython3",
   "version": "3.8.8"
  }
 },
 "nbformat": 4,
 "nbformat_minor": 1
}
