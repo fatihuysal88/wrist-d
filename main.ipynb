{
 "cells": [
  {
   "cell_type": "code",
   "execution_count": null,
   "id": "39be75ca",
   "metadata": {},
   "outputs": [],
   "source": [
    "import os\n",
    "import pandas as pd\n",
    "from utils.voc2json import voc2json\n",
    "from utils.mmdetection2wbf import *\n",
    "from utils.dicom2png import dicom2png\n",
    "from utils.preprocess import custom_Dataset"
   ]
  },
  {
   "cell_type": "markdown",
   "id": "0c958538",
   "metadata": {},
   "source": [
    "## Convert Dıcom files to PNG format"
   ]
  },
  {
   "cell_type": "code",
   "execution_count": null,
   "id": "08a34eaa",
   "metadata": {},
   "outputs": [],
   "source": [
    "dicom2png=dicom2png(dicom_path='./dıcom', png_path='./png')"
   ]
  },
  {
   "cell_type": "code",
   "execution_count": null,
   "id": "c050559c",
   "metadata": {},
   "outputs": [],
   "source": [
    "dicom2png.run()"
   ]
  },
  {
   "cell_type": "markdown",
   "id": "e7fe95be",
   "metadata": {},
   "source": [
    "##  Run preprocessing "
   ]
  },
  {
   "cell_type": "code",
   "execution_count": null,
   "id": "9ff6030c",
   "metadata": {},
   "outputs": [],
   "source": [
    "pre_process=custom_Dataset(source_dir=\"./source/\", target_dir=\"./source/\", resize_dim=800)"
   ]
  },
  {
   "cell_type": "code",
   "execution_count": null,
   "id": "06e9cd51",
   "metadata": {},
   "outputs": [],
   "source": [
    "pre_process.runPreProcess()"
   ]
  },
  {
   "cell_type": "markdown",
   "id": "7ebe4e03",
   "metadata": {},
   "source": [
    "##  Convert XML labels to Json format for MMdetection usage"
   ]
  },
  {
   "cell_type": "code",
   "execution_count": null,
   "id": "92529d2e",
   "metadata": {},
   "outputs": [],
   "source": [
    "xml2json=voc2json(\"./new_test/labels\",'new_test')"
   ]
  },
  {
   "cell_type": "code",
   "execution_count": null,
   "id": "51cab0f1",
   "metadata": {},
   "outputs": [],
   "source": [
    "xml2json.run()"
   ]
  },
  {
   "cell_type": "markdown",
   "id": "62fb5dd4",
   "metadata": {},
   "source": [
    "##  MMdetection Usage"
   ]
  },
  {
   "cell_type": "code",
   "execution_count": null,
   "id": "b8600765",
   "metadata": {},
   "outputs": [],
   "source": [
    "#python tools/train.py sabl_faster_rcnn_r50_fpn_1x_coco.py"
   ]
  },
  {
   "cell_type": "code",
   "execution_count": null,
   "id": "c7fbcca4",
   "metadata": {},
   "outputs": [],
   "source": [
    "#python tools/test.py sabl_faster_rcnn_r50_fpn_1x_coco.py sabl_faster_rcnn_r50_fpn_1x_coco/epoch_12.pth --format-only --options \"jsonfile_prefix=./json/sabl_faster_rcnn_r50_fpn_1x_coco\""
   ]
  },
  {
   "cell_type": "markdown",
   "id": "7e16c7c9",
   "metadata": {},
   "source": [
    "## Convert JSON outputs that output of evaluation, to CSV for WBF usage."
   ]
  },
  {
   "cell_type": "code",
   "execution_count": null,
   "id": "3a0048df",
   "metadata": {},
   "outputs": [],
   "source": [
    "mmdet2wbf=mmdetection2wbf(gt_path=\"./ground_truth/new_test.json\", json_path=\"./json\",csv_path=\"./csv\", init=True)"
   ]
  },
  {
   "cell_type": "code",
   "execution_count": null,
   "id": "7b40eee8",
   "metadata": {},
   "outputs": [],
   "source": [
    "mmdet2wbf.main()"
   ]
  },
  {
   "cell_type": "markdown",
   "id": "76a6ae15",
   "metadata": {},
   "source": [
    "## Convert CSV to txt format for Metrics usage"
   ]
  },
  {
   "cell_type": "code",
   "execution_count": null,
   "id": "f57352bb",
   "metadata": {},
   "outputs": [],
   "source": [
    "def get_Folder():\n",
    "    for file in os.listdir(\"./csv/\"):\n",
    "        if file.endswith(\".csv\"):\n",
    "            if os.path.exists(os.path.splitext(file)[0])==False:\n",
    "                os.mkdir(os.path.splitext(file)[0])\n",
    "                with open(file, 'r') as _file:\n",
    "                    _df = pd.read_csv(_file)\n",
    "                os.chdir(str(os.path.splitext(file)[0]))\n",
    "                create_TXT(_df)\n",
    "                os.chdir(\"../\")\n",
    "            else:\n",
    "                print(\"File Already Exist In Same Directory\")"
   ]
  },
  {
   "cell_type": "code",
   "execution_count": null,
   "id": "cf5fddfd",
   "metadata": {},
   "outputs": [],
   "source": [
    "def create_TXT(df):\n",
    "    for index, row in df.iterrows():\n",
    "        img_id=row['img_id']\n",
    "        _det_f_Name=str(int(img_id))+\".txt\"\n",
    "        _det_F= open(_det_f_Name,\"a+\")\n",
    "        class_id=str(int(row['label']))\n",
    "        confidence=str(row['score'])\n",
    "        x_center=str(row['x1']+(row['x2']-row['x1'])/2)\n",
    "        y_center=str(row['y1']+(row['y2']-row['y1'])/2)\n",
    "        width=str(row['x2']-row['x1'])\n",
    "        height=str(row['y2']-row['y1'])\n",
    "        det_ınfo=class_id+\" \"+confidence+\" \"+x_center+\" \"+y_center+\" \"+width+\" \"+height+\"\\n\"\n",
    "        _det_F.write(det_ınfo)\n",
    "        _det_F.close()"
   ]
  },
  {
   "cell_type": "code",
   "execution_count": null,
   "id": "0a0e0619",
   "metadata": {},
   "outputs": [],
   "source": [
    "get_Folder()"
   ]
  }
 ],
 "metadata": {
  "kernelspec": {
   "display_name": "Python 3",
   "language": "python",
   "name": "python3"
  },
  "language_info": {
   "codemirror_mode": {
    "name": "ipython",
    "version": 3
   },
   "file_extension": ".py",
   "mimetype": "text/x-python",
   "name": "python",
   "nbconvert_exporter": "python",
   "pygments_lexer": "ipython3",
   "version": "3.8.8"
  }
 },
 "nbformat": 4,
 "nbformat_minor": 5
}
